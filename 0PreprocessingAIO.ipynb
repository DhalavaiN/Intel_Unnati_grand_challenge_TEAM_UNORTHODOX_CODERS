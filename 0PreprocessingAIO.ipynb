{
 "cells": [
  {
   "cell_type": "markdown",
   "metadata": {},
   "source": [
    "Remove Invalid Dates"
   ]
  },
  {
   "cell_type": "code",
   "execution_count": 1,
   "metadata": {},
   "outputs": [],
   "source": [
    "import pandas as pd\n",
    "\n",
    "# Read the CSV file into a pandas DataFrame\n",
    "df = pd.read_csv('data.csv')\n",
    "\n",
    "# Convert the 'Date' column to datetime format\n",
    "df['Date'] = pd.to_datetime(df['Date'], errors='coerce')\n",
    "\n",
    "# Filter out rows with invalid dates\n",
    "valid_dates_df = df[df['Date'].notnull()]\n",
    "\n",
    "# Save the filtered DataFrame to a new CSV file\n",
    "valid_dates_df.to_csv('v1.csv', index=False)\n"
   ]
  },
  {
   "cell_type": "markdown",
   "metadata": {},
   "source": [
    "Remove Duplicate Rows"
   ]
  },
  {
   "cell_type": "code",
   "execution_count": 2,
   "metadata": {},
   "outputs": [
    {
     "name": "stdout",
     "output_type": "stream",
     "text": [
      "Unique rows saved to 'unique_rows.csv'\n",
      "Duplicate rows saved to 'duplicate_rows.csv'\n"
     ]
    }
   ],
   "source": [
    "import pandas as pd\n",
    "\n",
    "# Read the CSV file\n",
    "data = pd.read_csv('v1.csv')\n",
    "\n",
    "# Find duplicate rows\n",
    "duplicate_rows = data[data.duplicated()]\n",
    "\n",
    "# Save duplicate rows to a new CSV file\n",
    "duplicate_rows.to_csv('Duplicate_rows.csv', index=False)\n",
    "\n",
    "# Drop duplicate rows to get unique rows\n",
    "unique_rows = data.drop_duplicates()\n",
    "\n",
    "# Save unique rows to a new CSV file\n",
    "unique_rows.to_csv('v2.csv', index=False)\n",
    "\n",
    "print(\"Unique rows saved to 'unique_rows.csv'\")\n",
    "print(\"Duplicate rows saved to 'duplicate_rows.csv'\")\n"
   ]
  },
  {
   "cell_type": "markdown",
   "metadata": {},
   "source": [
    "Convert Altert To Numerical Data"
   ]
  },
  {
   "cell_type": "code",
   "execution_count": 3,
   "metadata": {},
   "outputs": [],
   "source": [
    "import pandas as pd\n",
    "\n",
    "data = pd.read_csv(\"v2.csv\")\n",
    "\n",
    "# alert_mapping = {\n",
    "#     \"cas_ldw\": 1,\n",
    "#     \"cas_hmw\": 2,\n",
    "#     \"cas_fcw\": 3,\n",
    "#     \"cas_pcw\": 4\n",
    "# }\n",
    "\n",
    "# data['Alert'] = data['Alert'].map(alert_mapping).fillna(0)\n",
    "\n",
    "data.to_csv(\"v3.csv\", index=False)\n"
   ]
  },
  {
   "cell_type": "markdown",
   "metadata": {},
   "source": [
    "Convert Time To Morning, Afternoon, Evening, Night Catagories"
   ]
  },
  {
   "cell_type": "code",
   "execution_count": 4,
   "metadata": {},
   "outputs": [],
   "source": [
    "import pandas as pd\n",
    "\n",
    "# Load the CSV data into a pandas DataFrame\n",
    "data = pd.read_csv('v3.csv')\n",
    "\n",
    "# Define time range categories\n",
    "time_ranges = {\n",
    "    (0, 12): 'Morning',\n",
    "    (12, 17): 'Afternoon',\n",
    "    (17, 20): 'Evening',\n",
    "    (20, 24): 'Night'\n",
    "}\n",
    "\n",
    "# Add a new column for time range\n",
    "data['TimeRange'] = None\n",
    "\n",
    "# Convert timestamp strings to datetime objects\n",
    "data['Timestamp'] = pd.to_datetime(data['Date'] + ' ' + data['Time'], format='%Y-%m-%d %H:%M:%S')\n",
    "\n",
    "# Assign time ranges based on timestamp\n",
    "for index, row in data.iterrows():\n",
    "    timestamp = row['Timestamp']\n",
    "    for range_start, range_end in time_ranges.keys():\n",
    "        if range_start <= timestamp.hour < range_end:\n",
    "            data.at[index, 'TimeRange'] = time_ranges[(range_start, range_end)]\n",
    "            break\n",
    "\n",
    "# Group data by time range\n",
    "grouped_data = data.groupby('TimeRange')\n",
    "\n",
    "# Print the results\n",
    "for time_range, group in grouped_data:\n",
    "    for index, row in group.iterrows():\n",
    "        # Exclude Timestamp column from the output\n",
    "        row_without_timestamp = row.drop('Timestamp')\n",
    "\n",
    "# Save the modified DataFrame to a new CSV file\n",
    "data_without_timestamp = data.drop('Timestamp', axis=1)\n",
    "data_without_timestamp.to_csv('v4.csv', index=False)\n"
   ]
  },
  {
   "cell_type": "markdown",
   "metadata": {},
   "source": [
    "Convert Morning, Afternoon, Evening, Night Catagories to Numerical Data"
   ]
  },
  {
   "cell_type": "code",
   "execution_count": 5,
   "metadata": {},
   "outputs": [],
   "source": [
    "import pandas as pd\n",
    "\n",
    "# Read the CSV file into a Pandas DataFrame\n",
    "data = pd.read_csv('v4.csv')\n",
    "\n",
    "# Define a mapping of time ranges to numerical values\n",
    "time_range_mapping = {\n",
    "    'Morning': 1,\n",
    "    'Afternoon': 2,\n",
    "    'Evening': 3,\n",
    "    'Night': 4\n",
    "}\n",
    "\n",
    "# Create a new column 'TimeRangeNumeric' using the mapping\n",
    "data['TimeRangeNumeric'] = data['TimeRange'].map(time_range_mapping)\n",
    "\n",
    "# Save the modified DataFrame back to a CSV file\n",
    "data.to_csv('v5.csv', index=False)\n"
   ]
  },
  {
   "cell_type": "markdown",
   "metadata": {},
   "source": [
    "Convert Types of data"
   ]
  },
  {
   "cell_type": "code",
   "execution_count": 6,
   "metadata": {},
   "outputs": [],
   "source": [
    "#Convert Types of data\n",
    "data['Date'] = pd.to_datetime(data['Date'], format='%Y-%m-%d')\n",
    "data['Time'] = pd.to_datetime(data['Time'], format='%H:%M:%S')\n",
    "#data[\"Alert\"] = data[\"Alert\"].astype(int)\n",
    "# Save the modified DataFrame back to a CSV file\n",
    "data.to_csv('v6.csv', index=False)"
   ]
  },
  {
   "cell_type": "markdown",
   "metadata": {},
   "source": [
    "Print Data Type"
   ]
  },
  {
   "cell_type": "code",
   "execution_count": 7,
   "metadata": {},
   "outputs": [
    {
     "data": {
      "text/plain": [
       "Alert                       object\n",
       "Date                datetime64[ns]\n",
       "Time                datetime64[ns]\n",
       "Lat                        float64\n",
       "Long                       float64\n",
       "Vehicle                      int64\n",
       "Speed                        int64\n",
       "TimeRange                   object\n",
       "TimeRangeNumeric             int64\n",
       "dtype: object"
      ]
     },
     "execution_count": 7,
     "metadata": {},
     "output_type": "execute_result"
    }
   ],
   "source": [
    "data.dtypes"
   ]
  }
 ],
 "metadata": {
  "kernelspec": {
   "display_name": "base",
   "language": "python",
   "name": "python3"
  },
  "language_info": {
   "codemirror_mode": {
    "name": "ipython",
    "version": 3
   },
   "file_extension": ".py",
   "mimetype": "text/x-python",
   "name": "python",
   "nbconvert_exporter": "python",
   "pygments_lexer": "ipython3",
   "version": "3.10.12"
  },
  "orig_nbformat": 4
 },
 "nbformat": 4,
 "nbformat_minor": 2
}
